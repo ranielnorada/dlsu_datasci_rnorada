{
 "cells": [
  {
   "cell_type": "code",
   "execution_count": null,
   "metadata": {},
   "outputs": [],
   "source": [
    "import pandas as pd \n",
    "import datetime\n",
    "import csv\n",
    "import os \n",
    "import requests \n",
    "import datetime as dt\n",
    "import time"
   ]
  },
  {
   "cell_type": "markdown",
   "metadata": {},
   "source": [
    "# Exercise"
   ]
  },
  {
   "cell_type": "markdown",
   "metadata": {},
   "source": [
    "For your exercise do the following:\n",
    "\n",
    "1. Choose a reddit page you want to crawl\n",
    "2. The following fields should be present when you crawl **(10 points)**:\n",
    "    - author\n",
    "    - subreddit\n",
    "    - date created \n",
    "    - number of comments \n",
    "    - score\n",
    "    - submission title \n",
    "    - submission description\n",
    "3. After crawling, save your results to a pandas dataframe **(3 points)**. \n",
    "4. Answer the following questions **(12 points)**:\n",
    "    - How many submissions were you able to gather? \n",
    "    - Who has the most submissions? \n",
    "    - Which submission has the highest score? \n",
    "    - Which submission has the highest number of comments?\n",
    "    - Which day of the week has the most submissions? \n",
    "    \n",
    "**Tip:** _For item#4, recall how to use the aggregation functions in `pandas` like count, value_counts, sum, etc. For getting the day of the week, look into how to get the `dayofweek` from a datetime object in `pandas`. (Hint: You may need to use `pd.to_datetime` to convert your date column...)_"
   ]
  },
  {
   "cell_type": "code",
   "execution_count": null,
   "metadata": {},
   "outputs": [],
   "source": [
    "def to_utc(date):\n",
    "    #This function converts an object to UTC. This is to automate the conversion \n",
    "    #of dates instead of going to https://www.unixtimeconverter.io/ \n",
    "    return int(date.replace(tzinfo=dt.timezone.utc).timestamp())\n",
    "    \n",
    "def to_readable_date(timestamp):\n",
    "    #This function converts the UTC format to a Year-Month-Day format \n",
    "    return dt.datetime.fromtimestamp(timestamp).strftime(\"%Y-%m-%d\")\n",
    "\n",
    "#Declare start and end of reddit posts to extract \n",
    "start_date = dt.datetime.strptime(\"2020-07-01\", \"%Y-%m-%d\")\n",
    "end_date = dt.datetime.strptime(\"2020-07-31\", \"%Y-%m-%d\")\n",
    "\n",
    "#Create a range of dates to iterate \n",
    "#Note: Periods here represents the number of days it will create from the start date \n",
    "#We also do a +2 since we want to get data from the last day  \n",
    "date_range = (pd.date_range(\n",
    "                start_date, \n",
    "                periods=(end_date - start_date).days + 2)\n",
    "              .tolist())\n",
    "\n",
    "#parameters\n",
    "sort_type=\"num_comments\"\n",
    "sort=\"desc\"\n",
    "fields=[\"title\",\"author\",\"subreddit\",\"score\",\"selftext\",\"num_comments\",\"created_utc\"]\n",
    "subreddit = 'NBA'\n",
    "url = \"https://api.pushshift.io/reddit/submission/search/\"\n",
    "results = []\n",
    "#looping through the dates \n",
    "for i, s_date in enumerate(date_range):\n",
    "    #prevents us from getting an index out of range error\n",
    "    if i != len(date_range)-1:\n",
    "        #declare end date \n",
    "        e_date = date_range[i+1]\n",
    "        #call the API\n",
    "        r = requests.get(url = url, params={\n",
    "            'after': to_utc(s_date),\n",
    "            'before': to_utc(e_date),\n",
    "            'sort_type': sort_type,\n",
    "            'sort': sort,\n",
    "            'subreddit': subreddit,\n",
    "            'fields': fields,\n",
    "            \"size\": 500\n",
    "        })\n",
    "\n",
    "        #logs \n",
    "        print(f\"Doing {s_date.strftime('%Y-%m-%d')} to {e_date.strftime('%Y-%m-%d')}\")\n",
    "        if r.status_code == 200:\n",
    "            results.append(r.json()['data'])\n",
    "            print(\"=====Done\")\n",
    "        else:\n",
    "            print(\"=====Skipped\")\n",
    "        time.sleep(1)"
   ]
  },
  {
   "cell_type": "code",
   "execution_count": null,
   "metadata": {},
   "outputs": [],
   "source": [
    "to_readable_date(1596315600)"
   ]
  },
  {
   "cell_type": "code",
   "execution_count": null,
   "metadata": {},
   "outputs": [],
   "source": [
    "flat_list = []\n",
    "#loop through the reddit results\n",
    "for sublist in results:\n",
    "    #check if sublist is not empty. The reason we have empty lists is because there are days wherein there are no submissions\n",
    "    if sublist is not None:\n",
    "        #for each dictionary in the sublist add it to the flat list \n",
    "        for item in sublist:\n",
    "            flat_list.append(item)\n",
    "\n",
    "#storing list into the data frame\n",
    "df = pd.DataFrame.from_dict(flat_list)\n",
    "# convert epoc to datetime\n",
    "df['created_utc'] = pd.to_datetime(df['created_utc'], unit='s')\n",
    "display(df)"
   ]
  },
  {
   "cell_type": "code",
   "execution_count": null,
   "metadata": {},
   "outputs": [],
   "source": [
    "#total submissions\n",
    "total_rows = df['title'].count()\n",
    "total_rows"
   ]
  },
  {
   "cell_type": "code",
   "execution_count": 180,
   "metadata": {},
   "outputs": [],
   "source": [
    "#max submissions of author\n",
    "total_subm =df['author'].value_counts(sort=True).head(1)\n",
    "#max submissions of author\n",
    "total_score= df[['title','score']]\n",
    "#max num comments\n",
    "total_comms= df[['title','num_comments']]"
   ]
  },
  {
   "cell_type": "code",
   "execution_count": 181,
   "metadata": {},
   "outputs": [
    {
     "name": "stdout",
     "output_type": "stream",
     "text": [
      "How many submissions were you able to gather?:\n",
      " 3100\n",
      "\n",
      "Who has the most submissions?:\n",
      " mkgandkembafan    75\n",
      "Name: author, dtype: int64\n",
      "\n",
      "Which submission has the highest score?:\n",
      "                                                    title  score\n",
      "1700  Stan Van Gundy shares his thoughts on Orlando ...  31560\n",
      "\n",
      "Which submission has the highest number of comments?:\n",
      "                                                    title  num_comments\n",
      "2900  GAME THREAD: Utah Jazz (41-23) @ New Orleans P...          8991\n",
      "\n",
      "Which day of the week has the most submissions? :\n"
     ]
    }
   ],
   "source": [
    "# item No.4 questions\n",
    "\n",
    "print('How many submissions were you able to gather?:\\n', total_rows)\n",
    "\n",
    "print('\\nWho has the most submissions?:\\n', total_subm)\n",
    "\n",
    "print('\\nWhich submission has the highest score?:\\n ',total_score[total_score['score']==total_score['score'].max()])\n",
    "\n",
    "print('\\nWhich submission has the highest number of comments?:\\n ',total_comms[total_comms['num_comments']==total_comms['num_comments'].max()])\n",
    "\n",
    "\n",
    "print('\\nWhich day of the week has the most submissions? :')"
   ]
  },
  {
   "cell_type": "code",
   "execution_count": null,
   "metadata": {},
   "outputs": [],
   "source": [
    "\n",
    "idx = pd.date_range(start='2020-07-01', freq='D', periods=30)\n",
    "idx\n",
    "#DatetimeIndex(['2018-01-01', '2018-01-02', '2018-01-03'],\n",
    "# #             dtype='datetime64[ns]', freq='D')\n",
    "idx.day_name()\n",
    "#Index(['Monday', 'Tuesday', 'Wednesday'], dtype='object')"
   ]
  }
 ],
 "metadata": {
  "kernelspec": {
   "display_name": "Python 3",
   "language": "python",
   "name": "python3"
  },
  "language_info": {
   "codemirror_mode": {
    "name": "ipython",
    "version": 3
   },
   "file_extension": ".py",
   "mimetype": "text/x-python",
   "name": "python",
   "nbconvert_exporter": "python",
   "pygments_lexer": "ipython3",
   "version": "3.8.5"
  }
 },
 "nbformat": 4,
 "nbformat_minor": 4
}
