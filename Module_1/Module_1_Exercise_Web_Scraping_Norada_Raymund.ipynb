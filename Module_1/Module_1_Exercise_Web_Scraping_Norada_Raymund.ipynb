{
 "cells": [
  {
   "cell_type": "code",
   "execution_count": 2,
   "metadata": {},
   "outputs": [],
   "source": [
    "from bs4 import BeautifulSoup\n",
    "import requests\n",
    "import pandas as pd"
   ]
  },
  {
   "cell_type": "markdown",
   "metadata": {},
   "source": [
    "# Exercise"
   ]
  },
  {
   "cell_type": "markdown",
   "metadata": {},
   "source": [
    "Go to http://books.toscrape.com/, Using what you have learned create a csv file the contains all the books found in the website. The csv file should contain the following:\n",
    "\n",
    "- Title\n",
    "- Price\n",
    "- Description\n",
    "- Availability"
   ]
  },
  {
   "cell_type": "markdown",
   "metadata": {},
   "source": [
    "Code guides have been provided to help you in creating the web scraper. Found below is the `get_title_links_and_next_page` this function returns 2 things book urls in a page and link to the next page. The idea here is to collect first all the book links available in the website and store the links in the `title_links` variable **(5 points)**"
   ]
  },
  {
   "cell_type": "code",
   "execution_count": null,
   "metadata": {},
   "outputs": [],
   "source": [
    "base_url = \"http://books.toscrape.com/\"\n",
    "\n",
    "def get_title_links_and_next_page(page_url):\n",
    "    #this is where we store our links to the title \n",
    "    list_links = [] \n",
    "    #get the html for the url that was given\n",
    "    page = requests.get(page_url)\n",
    "    #parse the html file for beautifulsoup to query on\n",
    "    soup = BeautifulSoup(page.text, 'html.parser')\n",
    "    #inspecting the page we notice that the books are placed under \n",
    "    #the article tag so we get all articles\n",
    "    for article in soup.find_all('article'):\n",
    "        #the article tag has an anchor tag so we find it and get the href\n",
    "        if \"catalogue\" not in article.find(\"a\")['href']:\n",
    "            url = base_url + \"catalogue/\" + article.find(\"a\")['href']\n",
    "        else:\n",
    "            url = base_url + article.find(\"a\")['href']\n",
    "        #add the title url to our list of titles \n",
    "        list_links.append(url)\n",
    "    \n",
    "    #try to check if a next button is in the page \n",
    "    try:\n",
    "        next_url = soup.find('li', attrs={'class':'next'}).find(\"a\")['href'] #li parent then inside a for 'next'\n",
    "    #if none we return None :)     \n",
    "    #except requests.packages.urllib3.exceptions.MaxRetryError as e:\n",
    "        #print(repr(e))\n",
    "    except:\n",
    "        next_url = None\n",
    "        \n",
    "    return (list_links, next_url)\n",
    "\n",
    "\n",
    "#initial set up to crawl the book links and next page\n",
    "res = get_title_links_and_next_page('http://books.toscrape.com/index.html')\n",
    "title_links = res[0]\n",
    "\n",
    "#while we get a next page link keep on crawling for book links\n",
    "while res[1]:\n",
    "    #there are cases that the word \"catalogue\" is not in the link so we add it \n",
    "    #so that we can crawl properly\n",
    "    if \"catalogue\" not in res[1]:\n",
    "        page_url = base_url + \"catalogue/\" + res[1]\n",
    "    else:\n",
    "        page_url = base_url + res[1]\n",
    "    #repeat initial set up then add res changes\n",
    "    res = get_title_links_and_next_page(page_url)\n",
    "    title_links += res[0]\n",
    "\n",
    "title_links"
   ]
  },
  {
   "cell_type": "markdown",
   "metadata": {},
   "source": [
    "Once you have a list of all the available book links we loop through the links and use the 4 functions `get_title`, `get_price`, `get_description`, `get_availability` to retrieve the book information. **(10 points)**"
   ]
  },
  {
   "cell_type": "code",
   "execution_count": null,
   "metadata": {},
   "outputs": [],
   "source": [
    "def get_title(soup):\n",
    "    return soup.find('h1').text\n",
    "\n",
    "def get_price(soup):\n",
    "    return soup.find('p', attrs={'class':'price_color'}).text\n",
    "  \n",
    "def get_description(soup):\n",
    "    return soup.find_all('p')[3].text\n",
    "    \n",
    "def get_availability(soup):\n",
    "    return soup.find('p', attrs={'class':'instock availability'}).text\n",
    "\n",
    "book_data = []\n",
    "for title_link in title_links: \n",
    "    page = requests.get(title_link)\n",
    "    soup = BeautifulSoup(page.text, 'html.parser')\n",
    "    \n",
    "    title = get_title(soup)\n",
    "    price = get_price(soup)\n",
    "    description = get_description(soup)\n",
    "    availability = get_availability(soup)\n",
    "    \n",
    "    book_data += [[title, price, description, availability.strip()]]"
   ]
  },
  {
   "cell_type": "code",
   "execution_count": null,
   "metadata": {},
   "outputs": [],
   "source": [
    "df = pd.DataFrame(data=)\n",
    "df.columns = ['title', 'price', 'description', 'availability']\n",
    "display(df.head())\n",
    "\n",
    "#save to csv file \n",
    "df.to_csv(\"book_to_scrape.csv\")"
   ]
  },
  {
   "cell_type": "code",
   "execution_count": null,
   "metadata": {},
   "outputs": [],
   "source": []
  }
 ],
 "metadata": {
  "kernelspec": {
   "display_name": "Python 3",
   "language": "python",
   "name": "python3"
  },
  "language_info": {
   "codemirror_mode": {
    "name": "ipython",
    "version": 3
   },
   "file_extension": ".py",
   "mimetype": "text/x-python",
   "name": "python",
   "nbconvert_exporter": "python",
   "pygments_lexer": "ipython3",
   "version": "3.8.5"
  }
 },
 "nbformat": 4,
 "nbformat_minor": 4
}
